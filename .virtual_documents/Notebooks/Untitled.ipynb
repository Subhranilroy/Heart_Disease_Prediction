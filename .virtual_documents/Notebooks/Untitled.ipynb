import pandas as pd
import numpy as np
import seaborn as sns
import matplotlib.pyplot as plt 
import warnings

warnings.filterwarnings('ignore')


df = pd.read_csv('heart_disease_uci.csv')
df


data = df.copy()
data


# Renaming the columns
data = data.rename(columns={
    "id": "patient_id",
    "age": "age",
    "sex": "sex",
    "dataset": "dataset_source",
    "cp": "chest_pain_type",
    "trestbps": "resting_bp",
    "chol": "cholesterol",
    "fbs": "fasting_blood_sugar",
    "restecg": "rest_ecg",
    "thalch": "max_heart_rate",
    "exang": "exercise_angina",
    "oldpeak": "st_depression",
    "slope": "st_slope",
    "ca": "num_major_vessels",
    "thal": "thalassemia",
    "num": "heart_disease"  # target
})



data.columns


correlation = data.select_dtypes(include='number').corr()

sns.heatmap(correlation, annot=True, cmap='viridis')
plt.title("HeatMap of Numerical Columns", fontsize=15, weight='bold')
plt.show()


data.drop('patient_id', axis=1, inplace=True)
data


data.info()


data.nunique()


data['dataset_source'].value_counts()


data.drop('dataset_source', axis=1, inplace=True)


data


data.isna().sum()


data['num_major_vessels'].value_counts()


# Outlier check

numerical_cols = list(data.select_dtypes(include='number').columns)

for col in numerical_cols:
    Q1 = data[col].quantile(0.25)
    Q3 = data[col].quantile(0.75)

    IQR = Q3 - Q1

    lower_bound = Q1 - 1.5*IQR
    upper_bound = Q3 + 1.5*IQR

    number_of_outliers = data[(data[col]>lower_bound) | (data[col]<upper_bound)][col]

    print(f"No of outliers in |{col}| columns = {len(number_of_outliers)}")




